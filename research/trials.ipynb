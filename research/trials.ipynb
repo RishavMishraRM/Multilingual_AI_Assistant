{
 "cells": [
  {
   "cell_type": "code",
   "execution_count": 19,
   "metadata": {},
   "outputs": [],
   "source": [
    "import os"
   ]
  },
  {
   "cell_type": "code",
   "execution_count": 20,
   "metadata": {},
   "outputs": [
    {
     "name": "stdout",
     "output_type": "stream",
     "text": [
      "perfect!!\n"
     ]
    }
   ],
   "source": [
    "from dotenv import load_dotenv\n",
    "import os\n",
    "\n",
    "print(\"perfect!!\")\n",
    "load_dotenv()\n",
    "\n",
    "GOOGLE_API_KEY=os.getenv(\"GOOGLE_API_KEY\")\n",
    "os.environ[\"GOOGLE_API_KEY\"]=GOOGLE_API_KEY"
   ]
  },
  {
   "cell_type": "code",
   "execution_count": 21,
   "metadata": {},
   "outputs": [],
   "source": [
    "# Import the Python SDK\n",
    "import google.generativeai as genai"
   ]
  },
  {
   "cell_type": "code",
   "execution_count": 22,
   "metadata": {},
   "outputs": [],
   "source": [
    "genai.configure(api_key=GOOGLE_API_KEY)"
   ]
  },
  {
   "cell_type": "code",
   "execution_count": 23,
   "metadata": {},
   "outputs": [],
   "source": [
    "model = genai.GenerativeModel('gemini-pro')"
   ]
  },
  {
   "cell_type": "code",
   "execution_count": 24,
   "metadata": {},
   "outputs": [
    {
     "name": "stdout",
     "output_type": "stream",
     "text": [
      "In the quaint town of Willow Creek, where cobblestone streets whispered secrets and the air carried a hint of enchantment, there lived a young girl named Anya. Anya possessed an ordinary life, filled with schoolbooks, piano lessons, and dreams that seemed just within reach. However, everything changed the day she stumbled upon a magical backpack.\n",
      "\n",
      "As she walked home from school, Anya noticed a faded backpack lying forgotten at the edge of the sidewalk. Its leather was worn, but something about it seemed oddly enchanting. Curiosity got the better of her, and she reached down to pick it up.\n",
      "\n",
      "As Anya's fingers brushed against the backpack, a surge of warmth coursed through her body. The leather seemed to soften, and faint golden threads began to shimmer along its surface. Suddenly, the backpack began to glow, emanating an ethereal light that filled the twilight street.\n",
      "\n",
      "Anya felt a surge of excitement mingled with trepidation. She unzipped it cautiously, revealing a seemingly endless void within. The backpack appeared to be bottomless, capable of holding an infinite amount of objects.\n",
      "\n",
      "At first, Anya used the backpack for mundane tasks, carrying her books and school supplies with ease. However, as days turned into weeks, she discovered the backpack's true magic. With a simple thought, she could summon anything she desired from within its depths.\n",
      "\n",
      "Books, toys, clothes – the backpack seemed to possess a limitless supply of all that Anya could imagine. But with great power came great responsibility. Anya realized that the backpack could also hold secrets and memories, both good and bad.\n",
      "\n",
      "One day, Anya discovered a hidden compartment within the backpack. Inside, she found a collection of old photographs and letters, each telling a tale of a past life filled with love, loss, and forgotten dreams. As she delved deeper into these memories, Anya felt a profound connection to the backpack's former owners.\n",
      "\n",
      "From that day forward, Anya used the backpack not only for her own convenience but also to honor the legacy of those who had come before her. She filled it with books of poetry, sketches of distant lands, and music that stirred her soul. And as the years passed, the backpack became more than just an object – it became a symbol of the boundless possibilities that lay ahead and the enduring spirit of the past.\n",
      "\n",
      "And so, the tale of the magic backpack was passed down through generations, reminding the townsfolk of Willow Creek that even in the most ordinary of objects, a touch of enchantment could transform the ordinary into the extraordinary.\n"
     ]
    }
   ],
   "source": [
    "response = model.generate_content(\"Write a story about a magic backpack.\")\n",
    "print(response.text)"
   ]
  },
  {
   "cell_type": "code",
   "execution_count": null,
   "metadata": {},
   "outputs": [],
   "source": []
  }
 ],
 "metadata": {
  "kernelspec": {
   "display_name": "Python 3",
   "language": "python",
   "name": "python3"
  },
  "language_info": {
   "codemirror_mode": {
    "name": "ipython",
    "version": 3
   },
   "file_extension": ".py",
   "mimetype": "text/x-python",
   "name": "python",
   "nbconvert_exporter": "python",
   "pygments_lexer": "ipython3",
   "version": "3.12.1"
  }
 },
 "nbformat": 4,
 "nbformat_minor": 2
}
